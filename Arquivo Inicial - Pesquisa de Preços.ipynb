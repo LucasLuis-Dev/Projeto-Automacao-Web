{
 "cells": [
  {
   "cell_type": "markdown",
   "metadata": {},
   "source": [
    "# Projeto Automação Web - Busca de Preços"
   ]
  },
  {
   "cell_type": "markdown",
   "metadata": {},
   "source": [
    "## Realizando as importações das bibliotecas"
   ]
  },
  {
   "cell_type": "code",
   "execution_count": 1,
   "metadata": {},
   "outputs": [],
   "source": [
    "from selenium import webdriver\n",
    "from selenium.webdriver.chrome.service import Service\n",
    "from selenium.webdriver.common.by import By\n",
    "from time import sleep\n",
    "from selenium.webdriver.common.keys import Keys\n",
    "\n",
    "import pandas as pd\n",
    "import shutil\n",
    "from pathlib import Path\n",
    "from datetime import date\n",
    "\n",
    "\n",
    "\n",
    "servico = Service(r'/home/lucasluis/anaconda3/lib/python3.9/chromedriver')\n",
    "driver = webdriver.Chrome(service=servico)"
   ]
  },
  {
   "cell_type": "markdown",
   "metadata": {},
   "source": [
    "## Importando a base de dados"
   ]
  },
  {
   "cell_type": "code",
   "execution_count": 2,
   "metadata": {
    "scrolled": true
   },
   "outputs": [
    {
     "data": {
      "text/html": [
       "<div>\n",
       "<style scoped>\n",
       "    .dataframe tbody tr th:only-of-type {\n",
       "        vertical-align: middle;\n",
       "    }\n",
       "\n",
       "    .dataframe tbody tr th {\n",
       "        vertical-align: top;\n",
       "    }\n",
       "\n",
       "    .dataframe thead th {\n",
       "        text-align: right;\n",
       "    }\n",
       "</style>\n",
       "<table border=\"1\" class=\"dataframe\">\n",
       "  <thead>\n",
       "    <tr style=\"text-align: right;\">\n",
       "      <th></th>\n",
       "      <th>Nome</th>\n",
       "      <th>Termos banidos</th>\n",
       "      <th>Preço mínimo</th>\n",
       "      <th>Preço máximo</th>\n",
       "    </tr>\n",
       "  </thead>\n",
       "  <tbody>\n",
       "    <tr>\n",
       "      <th>0</th>\n",
       "      <td>Iphone 12 64 gb</td>\n",
       "      <td>mini watch</td>\n",
       "      <td>3600</td>\n",
       "      <td>4500</td>\n",
       "    </tr>\n",
       "    <tr>\n",
       "      <th>1</th>\n",
       "      <td>RTX 3060</td>\n",
       "      <td>zotac galax</td>\n",
       "      <td>3100</td>\n",
       "      <td>4300</td>\n",
       "    </tr>\n",
       "    <tr>\n",
       "      <th>2</th>\n",
       "      <td>geladeira brastemp</td>\n",
       "      <td>usado electrolux</td>\n",
       "      <td>1500</td>\n",
       "      <td>3000</td>\n",
       "    </tr>\n",
       "    <tr>\n",
       "      <th>3</th>\n",
       "      <td>smart TV</td>\n",
       "      <td>usado samsung</td>\n",
       "      <td>1600</td>\n",
       "      <td>3200</td>\n",
       "    </tr>\n",
       "    <tr>\n",
       "      <th>4</th>\n",
       "      <td>Ideapad 3 8 gb 256 gb ssd</td>\n",
       "      <td>gaming usado</td>\n",
       "      <td>3000</td>\n",
       "      <td>3700</td>\n",
       "    </tr>\n",
       "    <tr>\n",
       "      <th>5</th>\n",
       "      <td>samsung s21 128 gb</td>\n",
       "      <td>ultra fe</td>\n",
       "      <td>2900</td>\n",
       "      <td>3600</td>\n",
       "    </tr>\n",
       "    <tr>\n",
       "      <th>6</th>\n",
       "      <td>motorola edge 20</td>\n",
       "      <td>pro lite</td>\n",
       "      <td>2000</td>\n",
       "      <td>3000</td>\n",
       "    </tr>\n",
       "  </tbody>\n",
       "</table>\n",
       "</div>"
      ],
      "text/plain": [
       "                        Nome    Termos banidos  Preço mínimo  Preço máximo\n",
       "0            Iphone 12 64 gb        mini watch          3600          4500\n",
       "1                   RTX 3060       zotac galax          3100          4300\n",
       "2         geladeira brastemp  usado electrolux          1500          3000\n",
       "3                   smart TV     usado samsung          1600          3200\n",
       "4  Ideapad 3 8 gb 256 gb ssd      gaming usado          3000          3700\n",
       "5         samsung s21 128 gb          ultra fe          2900          3600\n",
       "6           motorola edge 20          pro lite          2000          3000"
      ]
     },
     "metadata": {},
     "output_type": "display_data"
    }
   ],
   "source": [
    "Buscas_df = pd.read_excel(r'/home/lucasluis/Python Impressionador/Projeto de Automação Web/buscas.xlsx')\n",
    "display(Buscas_df)\n",
    "\n",
    "data_atual = date.today()"
   ]
  },
  {
   "cell_type": "markdown",
   "metadata": {},
   "source": [
    "## Definição das funções de busca pela web"
   ]
  },
  {
   "cell_type": "code",
   "execution_count": 3,
   "metadata": {
    "scrolled": false
   },
   "outputs": [],
   "source": [
    "def buscaGoogleShopping(driver,produto,termos_banidos,preço_minimo,preço_maximo,data_atual):\n",
    "\n",
    "    # Abre o navegador\n",
    "    driver.get('https://shopping.google.com/')\n",
    "\n",
    "    #tratamento dos parametros\n",
    "    data_atual = date.today()\n",
    "    produto = produto.lower()\n",
    "    termos_banidos = termos_banidos.lower()\n",
    "\n",
    "    lista_termos_banidos = termos_banidos.split(' ')\n",
    "    lista_termos_produto = produto.split(' ')\n",
    "\n",
    "\n",
    "    driver.find_element(By.XPATH,'//*[@id=\"REsRA\"]').send_keys(produto)\n",
    "    driver.find_element(By.XPATH,'//*[@id=\"REsRA\"]').send_keys(Keys.ENTER)\n",
    "    \n",
    "    \n",
    "    # Lista de resultados do google shopping\n",
    "    lista_resultados_busca = driver.find_elements(By.CLASS_NAME,'i0X6df')\n",
    "\n",
    "    # Para cada resultado será verificado se o resultado corresponde com todas as condições\n",
    "    \n",
    "    lista_ofertas = [] # Lista que a função vai retornar com todos os resultados verificados\n",
    "\n",
    "    for resultado in lista_resultados_busca:\n",
    "    \n",
    "        nome = resultado.find_element(By.CLASS_NAME,'Xjkr3b').text\n",
    "        nome = nome.lower()\n",
    "\n",
    "\n",
    "        # verficaca se a os termos banidos nos nomes dos produtos\n",
    "        tem_termos_banidos = False\n",
    "        for palavra in lista_termos_banidos:\n",
    "            if palavra in nome:\n",
    "                tem_termos_banidos = True\n",
    "\n",
    "        # Verifica se o nome do produto corresponde com o produto pedido\n",
    "        tem_todos_termos_produto = True\n",
    "        for palavra in lista_termos_produto:\n",
    "            if palavra not in nome:\n",
    "                tem_todos_termos_produto = False\n",
    "\n",
    "\n",
    "        # verificação final do nome\n",
    "        if not tem_termos_banidos and tem_todos_termos_produto:\n",
    "            # Tratamento do preço\n",
    "            preço = resultado.find_element(By.CLASS_NAME,'a8Pemb').text\n",
    "            preço = preço.replace('R$','').replace(' ','').replace('.','').replace(',','.')\n",
    "            if '+impostos' in preço:\n",
    "                preço = preço.replace('+impostos','')\n",
    "            preço = float(preço)\n",
    "\n",
    "            #verificando se o preço da dentro do minimo e maximo\n",
    "            preço_maximo = float(preço_maximo)\n",
    "            preço_minimo = float(preço_minimo)\n",
    "            if preço_minimo <= preço <= preço_maximo:\n",
    "                elemento_link = resultado.find_element(By.CLASS_NAME,'bONr3b')\n",
    "                elemento_pai = elemento_link.find_element(By.XPATH,'..')\n",
    "                link = elemento_pai.get_attribute('href')\n",
    "\n",
    "                # Atualização da lista de ofertas\n",
    "                lista_ofertas.append((nome,data_atual,preço,link))\n",
    "        \n",
    "    return lista_ofertas\n",
    "\n",
    "\n",
    "\n",
    "def buscaBuscape(driver,produto,termos_banidos,preço_minimo,preço_maximo, data_atual):\n",
    "\n",
    "    # Tratamento dos parametros\n",
    "    preço_maximo = float(preço_maximo)\n",
    "    preço_minimo = float(preço_minimo)\n",
    "    produto = produto.lower()\n",
    "    termos_banidos = termos_banidos.lower()\n",
    "    lista_termos_banidos = termos_banidos.split(' ')\n",
    "    lista_termos_produto = produto.split(' ')\n",
    "    data_atual = date.today()\n",
    "\n",
    "    # Abre o navegador\n",
    "    driver.get('https://www.buscape.com.br/')\n",
    "    \n",
    "    # Pesquisa o produto\n",
    "    driver.find_element(By.XPATH,'/html/body/div[1]/header/div[1]/div/div/div[3]/div/div/div[1]/input').send_keys(produto, Keys.ENTER)\n",
    "  \n",
    "    # Lista de resultados\n",
    "    \n",
    "    sleep(10)\n",
    "    lista_de_resultados = driver.find_elements(By.CLASS_NAME,'Cell_CellBody__YODBS')\n",
    "    \n",
    "    lista_ofertas = []\n",
    "    \n",
    "    for resultado in lista_de_resultados:\n",
    "        \n",
    "        link = resultado.find_element(By.CLASS_NAME,'Cell_Content__fT5st').get_attribute('href')\n",
    "        nome = resultado.find_element(By.CLASS_NAME,'Cell_Content__fT5st').get_attribute('title')\n",
    "        nome = nome.lower()\n",
    "\n",
    "\n",
    "        # verficaca se a os termos banidos nos nomes dos produtos\n",
    "        tem_termos_banidos = False\n",
    "        for palavra in lista_termos_banidos:\n",
    "            if palavra in nome:\n",
    "                tem_termos_banidos = True\n",
    "\n",
    "        # Verifica se o nome do produto corresponde com o produto pedido\n",
    "        tem_todos_termos_produto = True\n",
    "        for palavra in lista_termos_produto:\n",
    "            if palavra not in nome:\n",
    "                tem_todos_termos_produto = False\n",
    "\n",
    "        if not tem_termos_banidos and tem_todos_termos_produto:\n",
    "            # Tratamento do preço\n",
    "            preço = resultado.find_element(By.CLASS_NAME,'CellPrice_Block__2KAo4').text\n",
    "            preço = preço.replace('Menor preço','')\n",
    "            preço = preço.replace('R$','').replace(' ','').replace('.','').replace(',','.')\n",
    "            if 'Por' in preço:\n",
    "                preço = preço.replace('Por','')\n",
    "            preço = float(preço)\n",
    "\n",
    "\n",
    "            if preço_minimo <= preço <= preço_maximo:\n",
    "                lista_ofertas.append((nome,data_atual,preço,link))\n",
    "    \n",
    "        \n",
    "    return lista_ofertas"
   ]
  },
  {
   "cell_type": "markdown",
   "metadata": {},
   "source": [
    "# Elaboração dos dataframes com as ofertas e Exportando-os para uma planilha excel"
   ]
  },
  {
   "cell_type": "code",
   "execution_count": 4,
   "metadata": {
    "scrolled": true
   },
   "outputs": [],
   "source": [
    "# Criando uma pasta principal para abrigar todas as outras\n",
    "try:\n",
    "    Path('/home/lucasluis/Python Impressionador/Projeto de Automação Web/Produtos').mkdir()\n",
    "except FileExistsError:\n",
    "    pass\n",
    "\n",
    "for linha in Buscas_df.index:\n",
    "    # criação de pasta para cada produto\n",
    "    try:\n",
    "        produto = Buscas_df['Nome'].iloc[linha]\n",
    "        Path(f'/home/lucasluis/Python Impressionador/Projeto de Automação Web/Produtos/{produto}').mkdir()\n",
    "    except FileExistsError:\n",
    "        continue\n",
    "    \n",
    "    produto = Buscas_df.loc[linha,'Nome']\n",
    "    termos_banidos = Buscas_df.loc[linha,'Termos banidos']\n",
    "    preço_minimo = Buscas_df.loc[linha,'Preço mínimo']\n",
    "    preço_maximo = Buscas_df.loc[linha,'Preço máximo']\n",
    "\n",
    "    lista_ofertas_google_shopping= buscaGoogleShopping(driver,produto,termos_banidos,preço_minimo,preço_maximo,data_atual)\n",
    "    \n",
    "    # Verificação se há itens na lista\n",
    "    if lista_ofertas_google_shopping:\n",
    "        # transformando a lista em um dataframe\n",
    "        Ofertas_google_shopping_df = pd.DataFrame(lista_ofertas_google_shopping, columns=['Nome','Data', 'Preço','Link de Compra'])\n",
    "        # Exportando o dataframe para uma planilha excel \n",
    "        Ofertas_google_shopping_df.to_excel('/home/lucasluis/Python Impressionador/Projeto de Automação Web/Produtos/{}/{}_Google shopping.xlsx'.format(produto,produto), index=False)\n",
    "\n",
    "    \n",
    "    lista_ofertas_buscape = buscaBuscape(driver,produto,termos_banidos,preço_minimo,preço_maximo,data_atual)\n",
    "    \n",
    "    # Verificação se há itens na lista\n",
    "    if lista_ofertas_buscape:\n",
    "        #Transformando a lista em um dataframe\n",
    "        Ofertas_buscape_df = pd.DataFrame(lista_ofertas_buscape, columns=['Nome','Data', 'Preço','Link de Compra'] )\n",
    "        # Exportando o dataframe para uma planilha excel \n",
    "        Ofertas_buscape_df.to_excel('/home/lucasluis/Python Impressionador/Projeto de Automação Web/Produtos/{}/{}_Buscapé.xlsx'.format(produto,produto),index=False)\n",
    "\n",
    "driver.quit()"
   ]
  },
  {
   "cell_type": "markdown",
   "metadata": {},
   "source": [
    "## Comprimindo a pasta com todos os arquivos de oferta"
   ]
  },
  {
   "cell_type": "code",
   "execution_count": 5,
   "metadata": {},
   "outputs": [
    {
     "data": {
      "text/plain": [
       "'/home/lucasluis/Python Impressionador/Projeto de Automação Web/Produtos.zip'"
      ]
     },
     "execution_count": 5,
     "metadata": {},
     "output_type": "execute_result"
    }
   ],
   "source": [
    "# Comprimindo a pasta principal para possibilitar o envio por e-mail\n",
    "shutil.make_archive('Produtos', 'zip', '/home/lucasluis/Python Impressionador/Projeto de Automação Web/', 'Produtos')"
   ]
  }
 ],
 "metadata": {
  "kernelspec": {
   "display_name": "Python 3 (ipykernel)",
   "language": "python",
   "name": "python3"
  },
  "language_info": {
   "codemirror_mode": {
    "name": "ipython",
    "version": 3
   },
   "file_extension": ".py",
   "mimetype": "text/x-python",
   "name": "python",
   "nbconvert_exporter": "python",
   "pygments_lexer": "ipython3",
   "version": "3.9.7"
  }
 },
 "nbformat": 4,
 "nbformat_minor": 4
}
